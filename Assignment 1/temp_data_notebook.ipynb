{
 "cells": [
  {
   "cell_type": "markdown",
   "metadata": {},
   "source": [
    "<span style=\"color:red\">This is just to share the code with you - we're probably going to move this data reading to a function, such that we don't have to repeat the code in every notebook for each task.</span>."
   ]
  },
  {
   "cell_type": "code",
   "execution_count": 1,
   "metadata": {},
   "outputs": [],
   "source": [
    "import gurobipy as gb\n",
    "import numpy as np\n",
    "import pandas as pd\n",
    "import matplotlib.pyplot as plt\n",
    "import seaborn as sns\n",
    "\n",
    "%load_ext autoreload\n",
    "%autoreload 2\n",
    "\n",
    "plt.rcParams['font.size']=12\n",
    "plt.rcParams['font.family']='serif'\n",
    "plt.rcParams['axes.spines.top'] = False\n",
    "plt.rcParams['axes.spines.right'] = False  \n",
    "plt.rcParams['axes.spines.bottom'] = True     \n",
    "plt.rcParams[\"axes.grid\"] =True\n",
    "plt.rcParams['grid.linestyle'] = '-.' \n",
    "plt.rcParams['grid.linewidth'] = 0.4\n",
    "plt.rcParams['axes.axisbelow'] = True"
   ]
  },
  {
   "cell_type": "markdown",
   "metadata": {},
   "source": [
    "## Read data for the 24-bus IEEE test system"
   ]
  },
  {
   "cell_type": "markdown",
   "metadata": {},
   "source": [
    "<em>(this is at the moment a copy-paste from Julia's & Markus' work in course 46750)</em>"
   ]
  },
  {
   "cell_type": "markdown",
   "metadata": {},
   "source": [
    "<span style=\"color:red\">Ensure that the input data to be used is the same for this assignment.</span>."
   ]
  },
  {
   "cell_type": "code",
   "execution_count": 3,
   "metadata": {},
   "outputs": [],
   "source": [
    "#Assignment variables applicable across all tasks\n",
    "n_bus = 24\n",
    "wind_MWp = 300\n",
    "S_base_3ph = 100\n",
    "\n",
    "#path is the path to the folder containing the files for the assignment\n",
    "path = \"data/\"\n",
    "\n",
    "gen_costs = pd.read_excel(path + 'gen_costs.xlsx')['C ($/MWh)'].to_frame()\n",
    "gen_costs['C (DKK/MWh)'] = gen_costs['C ($/MWh)'].values * 7.03 #USD to DKK\n",
    "\n",
    "gen_data = pd.read_excel(path + 'gen_data.xlsx')\n",
    "line_data = pd.read_excel(path + 'line_data.xlsx')\n",
    "\n",
    "system_demand = pd.read_excel(path + 'system_demand.xlsx')\n",
    "load_distribution = pd.read_excel(path + 'load_distribution.xlsx')\n",
    "\n",
    "# Wind data processing - see the notebook for visualization\n",
    "wind_data_raw = []\n",
    "for i in range(6):\n",
    "    wt = pd.read_csv(path + 'wind %d.out' % (i + 1))\n",
    "    wt = wt.drop(columns = ['Unnamed: 0']) #dropping the unnecessary index column\n",
    "    wt['Mean'] = wt.mean(numeric_only=True, axis=1)\n",
    "    wind_data_raw.append(wt)\n",
    "\n",
    "wind_data = pd.DataFrame(index = wind_data_raw[0].index, data = wind_data_raw[0]['Mean'].values * wind_MWp, columns=['WF1 MW'])\n",
    "\n",
    "for i in range(1,6):\n",
    "    wind_data['WF%d MW' % (i + 1)] = wind_data_raw[i]['Mean'].values * wind_MWp #from normalized to MW values\n",
    "\n",
    "wind_data = wind_data[12:36].reset_index(drop=True) #selected data is from hours 13 to and including 36 (0-indexed: 12 to and including 35)\n",
    "\n",
    "\n",
    "#Filling out branch susceptance matrix and adjusting branch data\n",
    "\n",
    "# Important:\n",
    "# Please consider that the capacity of the transmission lines connecting the \n",
    "# node pairs (15, 21), (14, 16) and (13, 23) is reduced to 400 MW, 250 MW and 250 MW, respectively\n",
    "line_data.loc[(line_data['From'] == 15) & (line_data['To'] == 21), 'Capacity MVA'] = 400\n",
    "line_data.loc[(line_data['From'] == 14) & (line_data['To'] == 16), 'Capacity MVA'] = 250\n",
    "line_data.loc[(line_data['From'] == 13) & (line_data['To'] == 23), 'Capacity MVA'] = 250\n",
    "line_data['Susceptance pu'] = 1 / line_data['Reactance pu']\n",
    "line_data['Capacity pu'] = line_data['Capacity MVA'] / S_base_3ph\n",
    "\n",
    "branch_matrix = np.zeros((n_bus, n_bus))\n",
    "\n",
    "for n in range(1, n_bus + 1):\n",
    "    branch_matrix[n - 1][n - 1] = line_data.loc[(line_data['From'] == n) | (line_data['To'] == n), 'Susceptance pu'].sum()\n",
    "    for k in range(n, n_bus + 1): #start from n\n",
    "        if k != n:\n",
    "            branch_matrix[n - 1][k - 1] = -1 * (line_data.loc[(line_data['From'] == n) & (line_data['To'] == k), 'Susceptance pu'].sum())\n",
    "            branch_matrix[k - 1][n - 1] = branch_matrix[n - 1][k - 1] #symmetric\n",
    "    \n",
    "\n",
    "#These dictionarys return the 0-indexed indices of generators or wind farms located at the node n\n",
    "\n",
    "#for example, gens_map.get(0) will return the list [0] because generator 1 is placed at node 1\n",
    "#gens_map.get(14) will return [4, 5] because generators 5 and 6 are at node 15\n",
    "\n",
    "#if no wind farms or generators are located at node n, it will return an empty list\n",
    "\n",
    "wf_nodes = [2, 4, 6, 15, 20, 22]\n",
    "\n",
    "gens_map = {}\n",
    "\n",
    "for n in range(1, n_bus + 1):\n",
    "    gens_map[n - 1] = (gen_data['Unit #'][gen_data['Node'] == n] - 1).tolist()\n",
    "\n",
    "wf_map = {}\n",
    "\n",
    "for n in range(n_bus):\n",
    "    wf_map[n] = np.where(np.array(wf_nodes) == n)[0].tolist()"
   ]
  },
  {
   "cell_type": "code",
   "execution_count": 7,
   "metadata": {},
   "outputs": [
    {
     "data": {
      "text/plain": [
       "[10, 11]"
      ]
     },
     "execution_count": 7,
     "metadata": {},
     "output_type": "execute_result"
    }
   ],
   "source": [
    "gens_map[22]"
   ]
  }
 ],
 "metadata": {
  "kernelspec": {
   "display_name": "base",
   "language": "python",
   "name": "python3"
  },
  "language_info": {
   "codemirror_mode": {
    "name": "ipython",
    "version": 3
   },
   "file_extension": ".py",
   "mimetype": "text/x-python",
   "name": "python",
   "nbconvert_exporter": "python",
   "pygments_lexer": "ipython3",
   "version": "3.11.4"
  }
 },
 "nbformat": 4,
 "nbformat_minor": 2
}
