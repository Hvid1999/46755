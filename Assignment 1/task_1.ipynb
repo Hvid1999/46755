{
 "cells": [
  {
   "cell_type": "code",
   "execution_count": 14,
   "metadata": {},
   "outputs": [
    {
     "name": "stdout",
     "output_type": "stream",
     "text": [
      "The autoreload extension is already loaded. To reload it, use:\n",
      "  %reload_ext autoreload\n"
     ]
    }
   ],
   "source": [
    "import gurobipy as gb\n",
    "import numpy as np\n",
    "import pandas as pd\n",
    "import matplotlib.pyplot as plt\n",
    "import function_library_assignment_1 as fnc\n",
    "\n",
    "import warnings\n",
    "warnings.simplefilter(action='ignore', category=FutureWarning) #filtering FutureWarnings - we don't need to worry about them in this case\n",
    "#(This is run using Python 3.9)\n",
    "\n",
    "%load_ext autoreload\n",
    "%autoreload 2\n",
    "\n",
    "plt.rcParams['font.size']=12\n",
    "plt.rcParams['font.family']='serif'\n",
    "plt.rcParams['axes.spines.top'] = False\n",
    "plt.rcParams['axes.spines.right'] = False  \n",
    "plt.rcParams['axes.spines.bottom'] = True     \n",
    "plt.rcParams[\"axes.grid\"] =True\n",
    "plt.rcParams['grid.linestyle'] = '-.' \n",
    "plt.rcParams['grid.linewidth'] = 0.4"
   ]
  },
  {
   "cell_type": "markdown",
   "metadata": {},
   "source": [
    "## Reading data"
   ]
  },
  {
   "cell_type": "code",
   "execution_count": 22,
   "metadata": {},
   "outputs": [],
   "source": [
    "S_base_3ph = 100\n",
    "gen_data = fnc.read_data('gen_data')\n",
    "demand = fnc.read_data('system_demand')['System Demand']\n",
    "load_distribution = fnc.read_data('load_distribution')\n",
    "gen_costs = fnc.read_data('gen_costs')\n",
    "line_data = fnc.read_data('line_data')\n",
    "branch_matrix = fnc.read_data('branch_matrix')\n",
    "wind_data = fnc.read_data('wind_data')\n",
    "\n",
    "GC = len(gen_data.index)\n",
    "GW = len(wind_data.columns)\n",
    "G = GC + GW\n",
    "D = len(load_distribution.index)\n",
    "N = 24 # number of buses\n",
    "\n",
    "WF_NODES = [2, 4, 6, 15, 20, 22] #zero-indexed"
   ]
  },
  {
   "cell_type": "markdown",
   "metadata": {},
   "source": [
    "Set up demand array for the hour"
   ]
  },
  {
   "cell_type": "code",
   "execution_count": 19,
   "metadata": {},
   "outputs": [
    {
     "data": {
      "text/plain": [
       "array([ 67.48173 ,  60.37839 , 111.877605,  46.17171 ,  44.395875,\n",
       "        85.24008 ,  78.13674 , 106.5501  , 108.325935, 120.75678 ,\n",
       "         0.      ,   0.      , 165.152655, 120.75678 , 197.117685,\n",
       "        62.154225,   0.      , 207.772695, 113.65344 ,  79.912575,\n",
       "         0.      ,   0.      ,   0.      ,   0.      ])"
      ]
     },
     "execution_count": 19,
     "metadata": {},
     "output_type": "execute_result"
    }
   ],
   "source": [
    "t = 0 #hour\n",
    "load = np.zeros(N)\n",
    "\n",
    "#Saving the load for each bus in a numpy array accounting for the system load destribution\n",
    "for n in load_distribution['Node'].unique():\n",
    "    load[n-1] = load_distribution.loc[load_distribution['Node'] == n, r'% of system load'] / 100 * demand[t] #per-unitized load - remember that the data is not 0-indexed but the arrays are\n",
    "\n",
    "load"
   ]
  },
  {
   "cell_type": "markdown",
   "metadata": {},
   "source": [
    "Setup bid prices for loads"
   ]
  },
  {
   "cell_type": "code",
   "execution_count": null,
   "metadata": {},
   "outputs": [],
   "source": [
    "#..."
   ]
  },
  {
   "cell_type": "markdown",
   "metadata": {},
   "source": [
    "## Setup Gurobi model"
   ]
  },
  {
   "cell_type": "code",
   "execution_count": null,
   "metadata": {},
   "outputs": [],
   "source": [
    "direction = gb.GRB.MAXIMIZE #Min / Max\n",
    "\n",
    "# Create a Gurobi model       \n",
    "m = gb.Model()\n",
    "\n",
    "# Add variables\n",
    "p_G = m.addVars(G, lb=0, ub=gb.GRB.INFINITY, name=\"P_G\") #Note: wind farms can be curtailed AND P_min from the system should be disregarded to avoid having a mixed integer program\n",
    "p_D = m.addVars(D, lb=0, ub=gb.GRB.INFINITY, name=\"P_D\") #Note: demands are elastic\n",
    "\n",
    "# Set objective function (social welfare)\n",
    "obj = gb.quicksum(bid_prices[d] * p_D[d] for d in range(D)) - gb.quicksum(gen_costs['C (DKK/MWh)'][k] * p_G[k] for k in range(G))\n",
    "m.setObjective(obj, direction)\n",
    "\n",
    "#============= Balance equation =============\n",
    "m.addConstr(gb.quicksum(p_G[g] for g in range(G)) - gb.quicksum(p_D[d] for d in range(D)) == 0)\n",
    "\n",
    "#============= Generator limits =============\n",
    "m.addConstrs(p_G[g] <= (gen_data['P max MW'].iloc[g]) for g in range(GC)) #conventinal generator upper limits\n",
    "\n",
    "#Maximum wind power is the per-unitized output of the non-curtailed wind farm in the hour t\n",
    "m.addConstrs(p_G[GC + g] <= wind_data.iloc[t, g] for g in range(GW)) #wind farm generator upper limits\n",
    "\n",
    "#============= Demand limits =============\n",
    "m.addConstrs(p_D[d] <= load[d] for d in range(D)) #demand limits\n",
    "\n",
    "#============= Display and run model =============\n",
    "m.update()\n",
    "m.display()\n",
    "m.optimize()"
   ]
  },
  {
   "cell_type": "markdown",
   "metadata": {},
   "source": [
    "## Analyze results"
   ]
  },
  {
   "cell_type": "code",
   "execution_count": null,
   "metadata": {},
   "outputs": [],
   "source": [
    "#Print solutions\n",
    "if m.status == gb.GRB.OPTIMAL:\n",
    "    results = {}\n",
    "    generator_outputs = pd.DataFrame(data=np.zeros(G), columns=['p_G'])\n",
    "    generator_outputs['Node'] = 0 #initialize\n",
    "    generator_outputs['Dispatched Percentage'] = 0\n",
    "\n",
    "    load_results = pd.DataFrame(data=np.zeros(D), columns=['p_D'])\n",
    "    generator_outputs['Node'] = load_distribution['Node'].values\n",
    "\n",
    "\n",
    "    constraints = m.getConstrs()\n",
    "    # The constraint dual value of the current solution (also known as the shadow price)... https://www.gurobi.com/documentation/9.5/refman/pi.html\n",
    "    dual_values = [constraints[k].Pi for k in range(len(constraints))] \n",
    "    print('-----------------------------------------------')\n",
    "    print(\"Optimal objective value: %.2f DKK\" % m.objVal)\n",
    "\n",
    "    for i in range(G):\n",
    "        print(p_G[i].VarName + \": %.2f pu\" % p_G[i].x)\n",
    "        generator_outputs.loc[generator_outputs.index == i, 'p_G'] = p_G[i].x\n",
    "\n",
    "        if i < GC:\n",
    "            generator_outputs.loc[generator_outputs.index == i, 'Node'] = gen_data.loc[gen_data.index == i, 'Node'].values #save node\n",
    "            gen_limit = gen_data.loc[gen_data.index == i, 'P max MW']\n",
    "            generator_outputs.loc[generator_outputs.index == i, 'Dispatched Percentage'] = (p_G[i].x / gen_limit) * 100\n",
    "        else:\n",
    "            generator_outputs.loc[generator_outputs.index == i, 'Node'] =\n",
    "            wind_limit = wind_data.iloc[t, i - GC]\n",
    "            generator_outputs.loc[generator_outputs.index == i, 'Dispatched Percentage'] = (p_G[i].x / wind_limit) * 100\n",
    "\n",
    "    for i in range(D):\n",
    "        print(p_D[i].VarName + \": %.2f pu\" % p_D[i].x)\n",
    "\n",
    "\n",
    "    for k in range(len(constraints)):\n",
    "        print('Dual value {0}: '.format(k+1), dual_values[k])\n",
    "\n",
    "    sum_gen = sum(p_G[n].x for n in range(G))\n",
    "    sum_load = sum(p_D[n].x for n in range(D))\n",
    "    print(\"\\nTotal load: %.1f MWh\" % sum_load)\n",
    "    print(\"Total generation: %.1f MWh\" % sum_gen)\n",
    "\n",
    "    results['gen'] = generator_outputs.copy(deep=True)\n",
    "    results['demand'] = generator_outputs.copy(deep=True)\n",
    "\n",
    "else:\n",
    "    print(\"Optimization was not successful.\")     \n",
    "  \n",
    "        \n",
    "# Note that the dual values will reflect a per-unit basis. So if the LMPs are 3845, then it is for a step in demand of 1 pu = 100 MWh. So the value should be divided by 100 MW."
   ]
  },
  {
   "cell_type": "markdown",
   "metadata": {},
   "source": [
    "## Visualization"
   ]
  },
  {
   "cell_type": "code",
   "execution_count": null,
   "metadata": {},
   "outputs": [],
   "source": [
    "fig, ax = plt.subplots(1,2,sharey=False,figsize=( 15 , 5 ), dpi=400) # Create the figure\n",
    "\n",
    "(results.get('wind')['p_W']).plot(kind='bar', ax=ax[0], color='teal', width=0.2, label='Dispatched', edgecolor='darkslategrey')\n",
    "(results.get('wind')['Expected Production']).plot(kind='bar', ax=ax[0], width=0.2, edgecolor='black', linestyle='--', fill=False, linewidth=1.5, label='Expected Production')\n",
    "ax[0].set_ylabel('Power [MW]')\n",
    "ax[0].set_xlabel('Wind Farm')\n",
    "ax[0].set_xticks(ticks = np.arange(0, n_wf), labels = np.arange(1, n_wf + 1), fontsize=12, rotation = 0)\n",
    "ax[0].legend(loc='upper left', ncol=2, fontsize=12)\n",
    "ax[0].set_ylim([0,110])\n",
    "\n",
    "(results.get('gen')['p_G']).plot(kind='bar', ax=ax[1], color='darkgreen', label='Dispatched', edgecolor='darkslategrey')\n",
    "#((results.get('gen')['p_G']) / ((results.get('gen')['Loading Percentage']) / 100)).plot(kind='bar', ax=ax[1], edgecolor='black', linestyle='-', fill=False, linewidth=1.2, label='Limit')\n",
    "gen_data['P max MW'].plot(kind='bar', ax=ax[1], edgecolor='black', linestyle='-', fill=False, linewidth=1.2, label='Limit')\n",
    "ax[1].yaxis.tick_right()\n",
    "ax[1].yaxis.set_label_position(\"right\")\n",
    "ax[1].set_ylabel('Power [MW]')\n",
    "ax[1].set_xlabel('Generator')\n",
    "ax[1].set_xticks(ticks = np.arange(0, n_gen), labels = np.arange(1, n_gen + 1), fontsize=12, rotation = 0)\n",
    "ax[1].legend(loc='upper right', ncol=2, fontsize=12)\n",
    "\n",
    "for k in range(2):\n",
    "    ax[k].spines[['right', 'top']].set_visible(True)\n",
    "    ax[k].set_axisbelow(True)\n",
    "\n",
    "fig.tight_layout() # reduces white space around figures\n",
    "#plt.savefig('Figures/task_1_results_gen_dispatch.png',bbox_inches='tight')\n",
    "plt.show()"
   ]
  }
 ],
 "metadata": {
  "kernelspec": {
   "display_name": "base",
   "language": "python",
   "name": "python3"
  },
  "language_info": {
   "codemirror_mode": {
    "name": "ipython",
    "version": 3
   },
   "file_extension": ".py",
   "mimetype": "text/x-python",
   "name": "python",
   "nbconvert_exporter": "python",
   "pygments_lexer": "ipython3",
   "version": "3.9.18"
  }
 },
 "nbformat": 4,
 "nbformat_minor": 2
}
