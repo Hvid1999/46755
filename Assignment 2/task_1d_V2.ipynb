{
 "cells": [
  {
   "cell_type": "code",
   "execution_count": 1,
   "metadata": {},
   "outputs": [],
   "source": [
    "import numpy as np\n",
    "import pandas as pd\n",
    "import matplotlib.pyplot as plt\n",
    "import json\n",
    "import random\n",
    "\n",
    "plt.rcParams['font.size']=12\n",
    "plt.rcParams['font.family']='serif'\n",
    "plt.rcParams['axes.spines.top'] = False\n",
    "plt.rcParams['axes.spines.right'] = False  \n",
    "plt.rcParams['axes.spines.bottom'] = True     \n",
    "plt.rcParams[\"axes.grid\"] = True\n",
    "plt.rcParams['grid.linestyle'] = '-.' \n",
    "plt.rcParams['grid.linewidth'] = 0.4"
   ]
  },
  {
   "cell_type": "code",
   "execution_count": 4,
   "metadata": {},
   "outputs": [],
   "source": [
    "with open('Data/ALL_scenarios.json') as f:\n",
    "    all_scenarios = json.load(f)\n",
    "\n",
    "all_scenarios.keys()\n",
    "OMEGA = 250 # number of scenarios to sample\n",
    "PI = 1 / OMEGA # probability of each sampled scenario - assumed to be equal\n",
    "\n",
    "S = len(all_scenarios.keys()) - 1 # number of total scenarios\n",
    "T = 24 # number of hours\n",
    "\n",
    "WIND_CAPACITY = 200 #MWh\n",
    "\n",
    "random.seed(123)\n",
    "\n",
    "# Sample scenarios without replacement\n",
    "in_sample_scenarios = random.sample(range(S), 250)\n",
    "\n",
    "scenarios = {}\n",
    "\n",
    "# Extract sampled scenarios from dictionary containing all scenarios\n",
    "for i in range(len(in_sample_scenarios)):\n",
    "    scenarios[str(i)] = all_scenarios[str(in_sample_scenarios[i])]\n",
    "    scenarios[str(i)]['Original Index'] = in_sample_scenarios[i]"
   ]
  },
  {
   "cell_type": "markdown",
   "metadata": {},
   "source": [
    "Get out-of-sample scenarios"
   ]
  },
  {
   "cell_type": "code",
   "execution_count": 9,
   "metadata": {},
   "outputs": [
    {
     "name": "stdout",
     "output_type": "stream",
     "text": [
      "Number of out-of-sample scenarios: 1750\n"
     ]
    }
   ],
   "source": [
    "# Indices of all scenarios\n",
    "all_indices = list(range(S))\n",
    "\n",
    "# Indices of out-of-sample scenarios\n",
    "out_of_sample_indices = list(set(all_indices) - set(in_sample_scenarios))\n",
    "\n",
    "# Extract out-of-sample scenarios from the dictionary containing all scenarios\n",
    "out_sample_scenarios = {}\n",
    "for i, idx in enumerate(out_of_sample_indices):\n",
    "    out_sample_scenarios[str(i)] = all_scenarios[str(idx)]\n",
    "    out_sample_scenarios[str(i)]['Original Index'] = idx\n",
    "\n",
    "# Print information\n",
    "print('Number of out-of-sample scenarios:', len(out_sample_scenarios))"
   ]
  },
  {
   "cell_type": "markdown",
   "metadata": {},
   "source": [
    "Import the optimal day-ahead dispatch values"
   ]
  },
  {
   "cell_type": "code",
   "execution_count": 14,
   "metadata": {},
   "outputs": [],
   "source": [
    "optimal_DA_bids = pd.read_csv('Data/optimal_DA_bids.csv', index_col=0)\n",
    "\n",
    "optimal_DA_oneprice = optimal_DA_bids['One-price Bids [MW]'].values\n",
    "optimal_DA_twoprice = optimal_DA_bids['Two-price Bids [MW]'].values"
   ]
  },
  {
   "cell_type": "markdown",
   "metadata": {},
   "source": [
    "Calculate out-of-sample performance **(one-price)**"
   ]
  },
  {
   "cell_type": "code",
   "execution_count": 17,
   "metadata": {},
   "outputs": [
    {
     "data": {
      "text/plain": [
       "dict_keys(['Wind Power [MW]', 'Spot Price [EUR/MWh]', 'System Balance State', 'Original Index'])"
      ]
     },
     "execution_count": 17,
     "metadata": {},
     "output_type": "execute_result"
    }
   ],
   "source": [
    "out_sample_scenarios['0'].keys()"
   ]
  },
  {
   "cell_type": "code",
   "execution_count": 33,
   "metadata": {},
   "outputs": [
    {
     "name": "stdout",
     "output_type": "stream",
     "text": [
      "183418.07733846846\n"
     ]
    }
   ],
   "source": [
    "# Calculate payments or earnings for out-of-sample scenarios\n",
    "total_payment_earnings = 0\n",
    "\n",
    "for scenario_idx in out_sample_scenarios.keys():\n",
    "    scenario = out_sample_scenarios[scenario_idx]\n",
    "\n",
    "    x = scenario['Spot Price [EUR/MWh]'] * optimal_DA_oneprice\n",
    "\n",
    "    realized_imbalance = np.array(scenario['Wind Power [MW]']) - optimal_DA_oneprice\n",
    "\n",
    "    price_coefficient = 1.2 * np.array(scenario['System Balance State']) + 0.9 * (1 - np.array(scenario['System Balance State']))\n",
    "    y = realized_imbalance * price_coefficient * scenario['Spot Price [EUR/MWh]']\n",
    "\n",
    "    payment_earnings = x + y\n",
    "    \n",
    "    total_payment_earnings += np.sum(payment_earnings)\n",
    "\n",
    "# Calculate average payment or earnings over out-of-sample scenarios\n",
    "average_payment_earnings_one_price = total_payment_earnings / len(out_sample_scenarios.keys())\n",
    "\n",
    "print(average_payment_earnings_one_price)"
   ]
  },
  {
   "cell_type": "markdown",
   "metadata": {},
   "source": [
    "Calculate out-of-sample performance **(two-price)**"
   ]
  },
  {
   "cell_type": "code",
   "execution_count": 34,
   "metadata": {},
   "outputs": [
    {
     "name": "stdout",
     "output_type": "stream",
     "text": [
      "229648.8318077376\n"
     ]
    }
   ],
   "source": [
    "# Calculate payments or earnings for out-of-sample scenarios\n",
    "total_payment_earnings = 0\n",
    "\n",
    "for scenario_idx in out_sample_scenarios.keys():\n",
    "    scenario = out_sample_scenarios[scenario_idx]\n",
    "\n",
    "    x = scenario['Spot Price [EUR/MWh]'] * optimal_DA_twoprice\n",
    "\n",
    "    realized_imbalance = np.array(scenario['Wind Power [MW]']) - optimal_DA_twoprice\n",
    "\n",
    "    price_coefficients = np.zeros(T)\n",
    "\n",
    "    for t in range(T):\n",
    "        if (realized_imbalance[t] > 0) and (scenario['System Balance State'][t] == 0):\n",
    "            price_coefficients[t] = 0.9\n",
    "        elif (realized_imbalance[t] > 0) and (scenario['System Balance State'][t] == 1):\n",
    "            price_coefficients[t] = 1.0\n",
    "        elif (realized_imbalance[t] < 0) and (scenario['System Balance State'][t] == 0):\n",
    "            price_coefficients[t] = -1.0\n",
    "        elif (realized_imbalance[t] < 0) and (scenario['System Balance State'][t] == 1):\n",
    "            price_coefficients[t] = -1.2\n",
    "    \n",
    "\n",
    "    y = np.abs(realized_imbalance) * price_coefficient * scenario['Spot Price [EUR/MWh]']\n",
    "\n",
    "    payment_earnings = x + y\n",
    "    \n",
    "    total_payment_earnings += np.sum(payment_earnings)\n",
    "\n",
    "# Calculate average payment or earnings over out-of-sample scenarios\n",
    "average_payment_earnings_two_price = total_payment_earnings / len(out_sample_scenarios.keys())\n",
    "\n",
    "print(average_payment_earnings_two_price)"
   ]
  }
 ],
 "metadata": {
  "kernelspec": {
   "display_name": "Python 3",
   "language": "python",
   "name": "python3"
  },
  "language_info": {
   "codemirror_mode": {
    "name": "ipython",
    "version": 3
   },
   "file_extension": ".py",
   "mimetype": "text/x-python",
   "name": "python",
   "nbconvert_exporter": "python",
   "pygments_lexer": "ipython3",
   "version": "3.11.4"
  }
 },
 "nbformat": 4,
 "nbformat_minor": 2
}
