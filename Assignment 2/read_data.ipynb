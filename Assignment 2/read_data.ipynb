{
 "cells": [
  {
   "cell_type": "code",
   "execution_count": 1,
   "metadata": {},
   "outputs": [],
   "source": [
    "import pandas as pd\n",
    "import numpy as np\n",
    "\n",
    "WIND_CAPACITY = 200 #MWh\n",
    "\n",
    "spot_data = pd.read_csv('Data/DK1_DA_prices_2023.csv')[['HourDK', 'SpotPriceEUR']] #load day-ahead price data from Energinet file (March 2024)\n",
    "spot_data['HourDK'] = pd.to_datetime(spot_data['HourDK']) #convert 'HourUTC' to datetime format\n",
    "spot_data = spot_data.set_index('HourDK') #set 'HourDK' as index\n",
    "spot_data['Day'] = spot_data.index.day #extract day from 'HourUTC'"
   ]
  },
  {
   "cell_type": "code",
   "execution_count": 2,
   "metadata": {},
   "outputs": [
    {
     "data": {
      "text/html": [
       "<div>\n",
       "<style scoped>\n",
       "    .dataframe tbody tr th:only-of-type {\n",
       "        vertical-align: middle;\n",
       "    }\n",
       "\n",
       "    .dataframe tbody tr th {\n",
       "        vertical-align: top;\n",
       "    }\n",
       "\n",
       "    .dataframe thead th {\n",
       "        text-align: right;\n",
       "    }\n",
       "</style>\n",
       "<table border=\"1\" class=\"dataframe\">\n",
       "  <thead>\n",
       "    <tr style=\"text-align: right;\">\n",
       "      <th></th>\n",
       "      <th>Wind</th>\n",
       "      <th>Day</th>\n",
       "    </tr>\n",
       "    <tr>\n",
       "      <th>Time_DK</th>\n",
       "      <th></th>\n",
       "      <th></th>\n",
       "    </tr>\n",
       "  </thead>\n",
       "  <tbody>\n",
       "    <tr>\n",
       "      <th>2023-01-01 00:00:00</th>\n",
       "      <td>28.556556</td>\n",
       "      <td>1</td>\n",
       "    </tr>\n",
       "    <tr>\n",
       "      <th>2023-01-01 01:00:00</th>\n",
       "      <td>45.864962</td>\n",
       "      <td>1</td>\n",
       "    </tr>\n",
       "    <tr>\n",
       "      <th>2023-01-01 02:00:00</th>\n",
       "      <td>46.663636</td>\n",
       "      <td>1</td>\n",
       "    </tr>\n",
       "    <tr>\n",
       "      <th>2023-01-01 03:00:00</th>\n",
       "      <td>46.936729</td>\n",
       "      <td>1</td>\n",
       "    </tr>\n",
       "    <tr>\n",
       "      <th>2023-01-01 04:00:00</th>\n",
       "      <td>45.669398</td>\n",
       "      <td>1</td>\n",
       "    </tr>\n",
       "    <tr>\n",
       "      <th>...</th>\n",
       "      <td>...</td>\n",
       "      <td>...</td>\n",
       "    </tr>\n",
       "    <tr>\n",
       "      <th>2023-12-31 19:00:00</th>\n",
       "      <td>136.875626</td>\n",
       "      <td>31</td>\n",
       "    </tr>\n",
       "    <tr>\n",
       "      <th>2023-12-31 20:00:00</th>\n",
       "      <td>124.043065</td>\n",
       "      <td>31</td>\n",
       "    </tr>\n",
       "    <tr>\n",
       "      <th>2023-12-31 21:00:00</th>\n",
       "      <td>115.103740</td>\n",
       "      <td>31</td>\n",
       "    </tr>\n",
       "    <tr>\n",
       "      <th>2023-12-31 22:00:00</th>\n",
       "      <td>112.697736</td>\n",
       "      <td>31</td>\n",
       "    </tr>\n",
       "    <tr>\n",
       "      <th>2023-12-31 23:00:00</th>\n",
       "      <td>108.983435</td>\n",
       "      <td>31</td>\n",
       "    </tr>\n",
       "  </tbody>\n",
       "</table>\n",
       "<p>8760 rows × 2 columns</p>\n",
       "</div>"
      ],
      "text/plain": [
       "                           Wind  Day\n",
       "Time_DK                             \n",
       "2023-01-01 00:00:00   28.556556    1\n",
       "2023-01-01 01:00:00   45.864962    1\n",
       "2023-01-01 02:00:00   46.663636    1\n",
       "2023-01-01 03:00:00   46.936729    1\n",
       "2023-01-01 04:00:00   45.669398    1\n",
       "...                         ...  ...\n",
       "2023-12-31 19:00:00  136.875626   31\n",
       "2023-12-31 20:00:00  124.043065   31\n",
       "2023-12-31 21:00:00  115.103740   31\n",
       "2023-12-31 22:00:00  112.697736   31\n",
       "2023-12-31 23:00:00  108.983435   31\n",
       "\n",
       "[8760 rows x 2 columns]"
      ]
     },
     "execution_count": 2,
     "metadata": {},
     "output_type": "execute_result"
    }
   ],
   "source": [
    "production_data = pd.read_csv('Data/Energinet_Production_Data_2023.csv')[['Minutes5UTC', 'Minutes5DK', 'OffshoreWindPower', 'OnshoreWindPower']] #load production data from Energinet file (2023)\n",
    "production_data['Wind'] = production_data['OffshoreWindPower'] + production_data['OnshoreWindPower'] #sum offshore and onshore wind power\n",
    "\n",
    "production_data = production_data.rename(columns={'Minutes5DK': 'Time_DK'}) \n",
    "production_data['Time_DK'] = pd.to_datetime(production_data['Time_DK'])\n",
    "production_data = production_data.set_index('Time_DK')\n",
    "\n",
    "production_data = production_data['Wind'].to_frame()\n",
    "production_data = production_data.resample('1h').mean() #resample data to hourly frequency (mean)\n",
    "production_data['Wind'] = (production_data['Wind'] / production_data['Wind'].max()) * WIND_CAPACITY #scale wind data to the wind farm capacity\n",
    "production_data['Day'] = production_data.index.day\n",
    "production_data"
   ]
  },
  {
   "cell_type": "code",
   "execution_count": 3,
   "metadata": {},
   "outputs": [
    {
     "data": {
      "text/html": [
       "<div>\n",
       "<style scoped>\n",
       "    .dataframe tbody tr th:only-of-type {\n",
       "        vertical-align: middle;\n",
       "    }\n",
       "\n",
       "    .dataframe tbody tr th {\n",
       "        vertical-align: top;\n",
       "    }\n",
       "\n",
       "    .dataframe thead th {\n",
       "        text-align: right;\n",
       "    }\n",
       "</style>\n",
       "<table border=\"1\" class=\"dataframe\">\n",
       "  <thead>\n",
       "    <tr style=\"text-align: right;\">\n",
       "      <th></th>\n",
       "      <th>SpotPriceEUR</th>\n",
       "      <th>Day</th>\n",
       "    </tr>\n",
       "    <tr>\n",
       "      <th>HourDK</th>\n",
       "      <th></th>\n",
       "      <th></th>\n",
       "    </tr>\n",
       "  </thead>\n",
       "  <tbody>\n",
       "    <tr>\n",
       "      <th>2023-01-01 00:00:00</th>\n",
       "      <td>2.010000</td>\n",
       "      <td>1</td>\n",
       "    </tr>\n",
       "    <tr>\n",
       "      <th>2023-01-01 01:00:00</th>\n",
       "      <td>1.380000</td>\n",
       "      <td>1</td>\n",
       "    </tr>\n",
       "    <tr>\n",
       "      <th>2023-01-01 02:00:00</th>\n",
       "      <td>0.090000</td>\n",
       "      <td>1</td>\n",
       "    </tr>\n",
       "    <tr>\n",
       "      <th>2023-01-01 03:00:00</th>\n",
       "      <td>0.080000</td>\n",
       "      <td>1</td>\n",
       "    </tr>\n",
       "    <tr>\n",
       "      <th>2023-01-01 04:00:00</th>\n",
       "      <td>0.050000</td>\n",
       "      <td>1</td>\n",
       "    </tr>\n",
       "    <tr>\n",
       "      <th>...</th>\n",
       "      <td>...</td>\n",
       "      <td>...</td>\n",
       "    </tr>\n",
       "    <tr>\n",
       "      <th>2023-12-31 19:00:00</th>\n",
       "      <td>39.639999</td>\n",
       "      <td>31</td>\n",
       "    </tr>\n",
       "    <tr>\n",
       "      <th>2023-12-31 20:00:00</th>\n",
       "      <td>34.889999</td>\n",
       "      <td>31</td>\n",
       "    </tr>\n",
       "    <tr>\n",
       "      <th>2023-12-31 21:00:00</th>\n",
       "      <td>29.600000</td>\n",
       "      <td>31</td>\n",
       "    </tr>\n",
       "    <tr>\n",
       "      <th>2023-12-31 22:00:00</th>\n",
       "      <td>28.670000</td>\n",
       "      <td>31</td>\n",
       "    </tr>\n",
       "    <tr>\n",
       "      <th>2023-12-31 23:00:00</th>\n",
       "      <td>26.870001</td>\n",
       "      <td>31</td>\n",
       "    </tr>\n",
       "  </tbody>\n",
       "</table>\n",
       "<p>8760 rows × 2 columns</p>\n",
       "</div>"
      ],
      "text/plain": [
       "                     SpotPriceEUR  Day\n",
       "HourDK                                \n",
       "2023-01-01 00:00:00      2.010000    1\n",
       "2023-01-01 01:00:00      1.380000    1\n",
       "2023-01-01 02:00:00      0.090000    1\n",
       "2023-01-01 03:00:00      0.080000    1\n",
       "2023-01-01 04:00:00      0.050000    1\n",
       "...                           ...  ...\n",
       "2023-12-31 19:00:00     39.639999   31\n",
       "2023-12-31 20:00:00     34.889999   31\n",
       "2023-12-31 21:00:00     29.600000   31\n",
       "2023-12-31 22:00:00     28.670000   31\n",
       "2023-12-31 23:00:00     26.870001   31\n",
       "\n",
       "[8760 rows x 2 columns]"
      ]
     },
     "execution_count": 3,
     "metadata": {},
     "output_type": "execute_result"
    }
   ],
   "source": [
    "spot_data"
   ]
  },
  {
   "cell_type": "code",
   "execution_count": 4,
   "metadata": {},
   "outputs": [
    {
     "name": "stdout",
     "output_type": "stream",
     "text": [
      "1 : 24 24\n",
      "2 : 24 24\n",
      "3 : 24 24\n",
      "4 : 24 24\n",
      "5 : 24 24\n",
      "6 : 24 24\n",
      "7 : 24 24\n",
      "8 : 24 24\n",
      "9 : 24 24\n",
      "10 : 24 24\n",
      "11 : 24 24\n",
      "12 : 24 24\n",
      "13 : 24 24\n",
      "14 : 24 24\n",
      "15 : 24 24\n",
      "16 : 24 24\n",
      "17 : 24 24\n",
      "18 : 24 24\n",
      "19 : 24 24\n",
      "20 : 24 24\n"
     ]
    }
   ],
   "source": [
    "start_time = '2023-12-01 00:00:00'\n",
    "end_time = '2023-12-31 23:00:00'\n",
    "\n",
    "wind_data = production_data.loc[(production_data.index >= start_time) & (production_data.index <= end_time)].copy(deep=True)\n",
    "spot = spot_data.loc[(spot_data.index >= start_time) & (spot_data.index <= end_time)].copy(deep=True)\n",
    "\n",
    "wind_scenarios = {}\n",
    "price_scenarios = {}\n",
    "\n",
    "for day in range(1, 21): #20 scenarios for wind and price data\n",
    "    #using zero-indexing (from \"day\" to a scenario index)\n",
    "    wind_scenarios[day - 1] = list(wind_data.loc[wind_data.Day == day, 'Wind'].values)\n",
    "    price_scenarios[day - 1] = list(spot.loc[spot_data.Day == day, 'SpotPriceEUR'].values)\n",
    "\n",
    "    print(day, \":\" ,len(wind_scenarios[day - 1]), len(price_scenarios[day - 1]))"
   ]
  },
  {
   "cell_type": "code",
   "execution_count": 5,
   "metadata": {},
   "outputs": [
    {
     "name": "stdout",
     "output_type": "stream",
     "text": [
      "0 : [1, 1, 1, 1, 0, 1, 0, 1, 1, 0, 1, 1, 1, 1, 0, 0, 0, 1, 1, 1, 1, 1, 0, 1]\n",
      "1 : [0, 1, 0, 0, 0, 0, 0, 0, 0, 1, 0, 1, 0, 1, 0, 1, 0, 1, 0, 0, 1, 1, 0, 1]\n",
      "2 : [0, 0, 1, 0, 0, 0, 0, 1, 0, 0, 1, 1, 0, 1, 0, 1, 1, 0, 1, 0, 1, 0, 0, 0]\n",
      "3 : [1, 1, 0, 1, 1, 1, 0, 0, 0, 0, 0, 0, 1, 0, 1, 1, 0, 1, 0, 0, 0, 1, 0, 0]\n",
      "4 : [1, 1, 1, 1, 1, 0, 1, 0, 0, 0, 1, 0, 1, 1, 0, 1, 0, 0, 0, 1, 0, 1, 1, 1]\n"
     ]
    }
   ],
   "source": [
    "system_state_scenarios = {}\n",
    "\n",
    "for k in range(5):\n",
    "    np.random.seed(k) #set seed of random generator\n",
    "    system_state_scenarios[k] = np.random.binomial(1, 0.5, 24).astype(int).tolist() #generate 24 random binary numbers from binomial distribution with p=0.5 (1 draw)\n",
    "    print(k, \":\", system_state_scenarios[k])"
   ]
  },
  {
   "cell_type": "code",
   "execution_count": 6,
   "metadata": {},
   "outputs": [],
   "source": [
    "scenario_data = {\n",
    "    'Wind Power [MW]': wind_scenarios,\n",
    "    'Spot Price [EUR/MWh]': price_scenarios,\n",
    "    'System Balance State': system_state_scenarios\n",
    "}\n",
    "\n",
    "#Write to .json\n",
    "import json\n",
    "with open('Data/scenario_data.json', 'w') as f:\n",
    "    json.dump(scenario_data, f)"
   ]
  },
  {
   "cell_type": "markdown",
   "metadata": {},
   "source": [
    "Generate all possible combinations of wind, price and system states"
   ]
  },
  {
   "cell_type": "code",
   "execution_count": 7,
   "metadata": {},
   "outputs": [
    {
     "name": "stdout",
     "output_type": "stream",
     "text": [
      "Number of combinations: 2000\n"
     ]
    }
   ],
   "source": [
    "import itertools\n",
    "\n",
    "ranges = [range(len(wind_scenarios)), range(len(price_scenarios)), range(len(system_state_scenarios))]\n",
    "\n",
    "all_scenario_combinations = list(itertools.product(*ranges)) # \"*\" unpacks the list of ranges into the function argument\n",
    "\n",
    "print('Number of combinations:',len(all_scenario_combinations))\n",
    "\n",
    "#all_scenario_combinations #display?"
   ]
  },
  {
   "cell_type": "markdown",
   "metadata": {},
   "source": [
    "Export all scenarios"
   ]
  },
  {
   "cell_type": "code",
   "execution_count": null,
   "metadata": {},
   "outputs": [],
   "source": [
    "all_scenarios = {}\n",
    "\n",
    "#Add the list of scenario indices for wind power, spot price, and system balance state to document the in-sample scenarios\n",
    "all_scenarios['Sample Scenarios'] = {'Wind Scenario Index':{}, 'Price Scenario Index':{}, 'System State Scenario Index':{}} #initialize\n",
    "all_scenarios['Sample Scenarios']['Wind Scenario Index'] = [combination[0] for combination in all_scenario_combinations] #store the indices of the wind power scenarios\n",
    "all_scenarios['Sample Scenarios']['Price Scenario Index'] = [combination[1] for combination in all_scenario_combinations] #store the indices of the spot price scenarios\n",
    "all_scenarios['Sample Scenarios']['System State Scenario Index'] = [combination[2] for combination in all_scenario_combinations] #store the indices of the system balance state scenarios\n",
    "\n",
    "\n",
    "k = 0\n",
    "for combination in all_scenario_combinations:\n",
    "    w, p, s = combination\n",
    "\n",
    "    all_scenarios[k] = {\n",
    "        'Wind Power [MW]': wind_scenarios[w],\n",
    "        'Spot Price [EUR/MWh]': price_scenarios[p],\n",
    "        'System Balance State': system_state_scenarios[s]\n",
    "    }\n",
    "\n",
    "    k += 1\n",
    "\n",
    "with open('Data/ALL_scenarios.json', 'w') as f:\n",
    "    json.dump(all_scenarios, f)"
   ]
  },
  {
   "cell_type": "markdown",
   "metadata": {},
   "source": [
    "# For testing: Generate a larger number of system state scenarios"
   ]
  },
  {
   "cell_type": "code",
   "execution_count": 24,
   "metadata": {},
   "outputs": [
    {
     "name": "stdout",
     "output_type": "stream",
     "text": [
      "0 : [0, 1, 0, 0, 0, 0, 0, 0, 0, 1, 0, 1, 0, 1, 0, 1, 0, 1, 0, 0, 1, 1, 0, 1]\n",
      "1 : [0, 0, 1, 0, 0, 0, 0, 1, 0, 0, 1, 1, 0, 1, 0, 1, 1, 0, 1, 0, 1, 0, 0, 0]\n",
      "2 : [1, 1, 0, 1, 1, 1, 0, 0, 0, 0, 0, 0, 1, 0, 1, 1, 0, 1, 0, 0, 0, 1, 0, 0]\n",
      "3 : [1, 1, 1, 1, 1, 0, 1, 0, 0, 0, 1, 0, 1, 1, 0, 1, 0, 0, 0, 1, 0, 1, 1, 1]\n",
      "4 : [0, 1, 0, 1, 0, 1, 1, 1, 0, 0, 0, 1, 0, 0, 1, 0, 0, 0, 1, 1, 1, 0, 0, 0]\n",
      "5 : [1, 0, 1, 0, 0, 1, 1, 0, 0, 1, 0, 1, 1, 1, 1, 1, 1, 0, 1, 1, 0, 1, 1, 1]\n",
      "6 : [0, 1, 0, 1, 1, 1, 1, 0, 0, 0, 1, 1, 0, 0, 0, 1, 0, 0, 1, 0, 1, 1, 0, 1]\n",
      "7 : [1, 1, 1, 1, 0, 0, 0, 0, 1, 0, 1, 1, 1, 1, 1, 0, 0, 1, 0, 0, 0, 1, 0, 0]\n",
      "8 : [0, 1, 0, 0, 0, 0, 0, 0, 0, 0, 0, 1, 1, 0, 1, 1, 1, 1, 1, 1, 0, 1, 1, 0]\n",
      "9 : [1, 0, 1, 1, 0, 0, 0, 1, 0, 0, 1, 1, 0, 1, 1, 1, 1, 0, 1, 1, 1, 0, 0, 1]\n",
      "10 : [0, 0, 0, 1, 0, 0, 0, 0, 1, 1, 1, 0, 1, 1, 0, 1, 0, 0, 0, 0, 1, 1, 0, 0]\n",
      "11 : [0, 1, 0, 1, 0, 1, 1, 0, 1, 0, 0, 1, 1, 1, 0, 1, 1, 0, 1, 0, 1, 0, 0, 0]\n",
      "12 : [1, 0, 1, 1, 1, 0, 1, 1, 1, 1, 0, 0, 0, 1, 0, 1, 0, 0, 0, 0, 1, 0, 0, 1]\n",
      "13 : [1, 1, 1, 0, 0, 1, 1, 0, 1, 0, 1, 0, 1, 0, 1, 0, 1, 0, 1, 1, 1, 0, 0, 0]\n",
      "14 : [1, 0, 0, 0, 0, 1, 0, 0, 0, 0, 1, 0, 1, 1, 1, 0, 0, 0, 0, 0, 1, 0, 1, 0]\n",
      "15 : [0, 1, 1, 0, 0, 0, 1, 0, 0, 1, 1, 0, 1, 0, 0, 0, 1, 0, 0, 0, 0, 1, 1, 0]\n",
      "16 : [0, 1, 0, 0, 1, 1, 1, 1, 0, 0, 1, 0, 1, 1, 0, 1, 1, 1, 0, 0, 0, 1, 0, 1]\n",
      "17 : [1, 1, 1, 0, 1, 1, 1, 1, 0, 0, 1, 1, 1, 0, 0, 0, 1, 1, 0, 1, 1, 0, 1, 1]\n",
      "18 : [0, 1, 0, 0, 0, 0, 1, 1, 1, 1, 0, 1, 1, 0, 0, 0, 0, 1, 0, 1, 0, 1, 1, 1]\n",
      "19 : [1, 1, 1, 1, 0, 1, 0, 1, 1, 0, 0, 1, 1, 1, 1, 0, 0, 1, 0, 0, 1, 1, 1, 0]\n",
      "[0.5  0.7  0.5  0.5  0.3  0.5  0.55 0.4  0.35 0.3  0.55 0.6  0.7  0.6\n",
      " 0.45 0.6  0.45 0.4  0.4  0.4  0.6  0.6  0.4  0.45]\n"
     ]
    }
   ],
   "source": [
    "N = 20\n",
    "\n",
    "system_state_scenarios = {}\n",
    "\n",
    "for k in range(N):\n",
    "    np.random.seed(k+1) #set seed of random generator\n",
    "    system_state_scenarios[k] = np.random.binomial(1, 0.5, 24).astype(int).tolist() #generate 24 random binary numbers from binomial distribution with p=0.5 (1 draw)\n",
    "    print(k, \":\", system_state_scenarios[k])\n",
    "\n",
    "print(np.mean([system_state_scenarios[k]for k in range(N)], axis=0))"
   ]
  },
  {
   "cell_type": "code",
   "execution_count": 28,
   "metadata": {},
   "outputs": [
    {
     "name": "stdout",
     "output_type": "stream",
     "text": [
      "Number of combinations: 8000\n"
     ]
    }
   ],
   "source": [
    "import itertools, json\n",
    "\n",
    "ranges = [range(len(wind_scenarios)), range(len(price_scenarios)), range(len(system_state_scenarios))]\n",
    "\n",
    "all_scenario_combinations = list(itertools.product(*ranges)) # \"*\" unpacks the list of ranges into the function argument\n",
    "\n",
    "print('Number of combinations:',len(all_scenario_combinations))\n",
    "\n",
    "#all_scenario_combinations #display?"
   ]
  },
  {
   "cell_type": "code",
   "execution_count": 29,
   "metadata": {},
   "outputs": [],
   "source": [
    "all_scenarios = {}\n",
    "\n",
    "#Add the list of scenario indices for wind power, spot price, and system balance state to document the in-sample scenarios\n",
    "all_scenarios['Sample Scenarios'] = {'Wind Scenario Index':{}, 'Price Scenario Index':{}, 'System State Scenario Index':{}} #initialize\n",
    "all_scenarios['Sample Scenarios']['Wind Scenario Index'] = [combination[0] for combination in all_scenario_combinations] #store the indices of the wind power scenarios\n",
    "all_scenarios['Sample Scenarios']['Price Scenario Index'] = [combination[1] for combination in all_scenario_combinations] #store the indices of the spot price scenarios\n",
    "all_scenarios['Sample Scenarios']['System State Scenario Index'] = [combination[2] for combination in all_scenario_combinations] #store the indices of the system balance state scenarios\n",
    "\n",
    "\n",
    "k = 0\n",
    "for combination in all_scenario_combinations:\n",
    "    w, p, s = combination\n",
    "\n",
    "    all_scenarios[k] = {\n",
    "        'Wind Power [MW]': wind_scenarios[w],\n",
    "        'Spot Price [EUR/MWh]': price_scenarios[p],\n",
    "        'System Balance State': system_state_scenarios[s]\n",
    "    }\n",
    "\n",
    "    k += 1\n",
    "\n",
    "with open('Data/ALL_scenarios_TESTING.json', 'w') as f:\n",
    "    json.dump(all_scenarios, f)"
   ]
  }
 ],
 "metadata": {
  "kernelspec": {
   "display_name": "base",
   "language": "python",
   "name": "python3"
  },
  "language_info": {
   "codemirror_mode": {
    "name": "ipython",
    "version": 3
   },
   "file_extension": ".py",
   "mimetype": "text/x-python",
   "name": "python",
   "nbconvert_exporter": "python",
   "pygments_lexer": "ipython3",
   "version": "3.11.4"
  }
 },
 "nbformat": 4,
 "nbformat_minor": 2
}
