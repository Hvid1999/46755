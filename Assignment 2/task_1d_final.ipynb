{
 "cells": [
  {
   "cell_type": "code",
   "execution_count": 1,
   "metadata": {},
   "outputs": [],
   "source": [
    "import numpy as np\n",
    "import pandas as pd\n",
    "import matplotlib.pyplot as plt\n",
    "import json\n",
    "import random\n",
    "\n",
    "plt.rcParams['font.size']=12\n",
    "plt.rcParams['font.family']='serif'\n",
    "plt.rcParams['axes.spines.top'] = False\n",
    "plt.rcParams['axes.spines.right'] = False  \n",
    "plt.rcParams['axes.spines.bottom'] = True     \n",
    "plt.rcParams[\"axes.grid\"] = True\n",
    "plt.rcParams['grid.linestyle'] = '-.' \n",
    "plt.rcParams['grid.linewidth'] = 0.4"
   ]
  },
  {
   "cell_type": "code",
   "execution_count": 2,
   "metadata": {},
   "outputs": [],
   "source": [
    "with open('Data/ALL_scenarios.json') as f:\n",
    "    all_scenarios = json.load(f)\n",
    "\n",
    "all_scenarios.keys()\n",
    "OMEGA = 250 # number of scenarios to sample\n",
    "PI = 1 / OMEGA # probability of each sampled scenario - assumed to be equal\n",
    "\n",
    "S = len(all_scenarios.keys()) - 1 # number of total scenarios\n",
    "T = 24 # number of hours\n",
    "\n",
    "WIND_CAPACITY = 200 #MWh\n",
    "\n",
    "random.seed(123)\n",
    "\n",
    "# Sample scenarios without replacement\n",
    "in_sample_scenarios = random.sample(range(S), 250)\n",
    "\n",
    "scenarios = {}\n",
    "\n",
    "# Extract sampled scenarios from dictionary containing all scenarios\n",
    "for i in range(len(in_sample_scenarios)):\n",
    "    scenarios[str(i)] = all_scenarios[str(in_sample_scenarios[i])]\n",
    "    scenarios[str(i)]['Original Index'] = in_sample_scenarios[i]"
   ]
  },
  {
   "cell_type": "markdown",
   "metadata": {},
   "source": [
    "Get out-of-sample scenarios"
   ]
  },
  {
   "cell_type": "code",
   "execution_count": 4,
   "metadata": {},
   "outputs": [
    {
     "name": "stdout",
     "output_type": "stream",
     "text": [
      "[378, 1226, 756, 1214, 1210, 1306, 330, 803, 1178, 253, 1277, 1706, 863, 521, 1338, 794, 228, 630, 1190, 566, 474, 749, 612, 936, 109, 1179, 199, 460, 1188, 465, 1777, 45, 454, 620, 1327, 534, 210, 1408, 738, 206, 796, 1301, 1260, 321, 1899, 1253, 325, 1844, 1139, 1160, 1719, 1973, 1823, 72, 595, 1675, 1356, 1143, 795, 928, 520, 1180, 305, 1428, 1489, 15, 1865, 1857, 1410, 1427, 1164, 1991, 1634, 1374, 296, 1623, 133, 842, 1082, 845, 1569, 986, 735, 838, 504, 1807, 1053, 802, 1904, 1768, 451, 427, 897, 1893, 155, 973, 876, 1990, 614, 414, 1313, 879, 862, 171, 686, 1918, 1894, 1183, 1418, 1976, 138, 892, 130, 1377, 909, 694, 261, 1093, 1346, 1795, 1660, 755, 564, 1516, 1043, 615, 1030, 1322, 1341, 804, 576, 1622, 1070, 1931, 1350, 637, 786, 121, 430, 298, 51, 1005, 1549, 1168, 1725, 318, 1124, 1254, 108, 1108, 1269, 339, 758, 865, 513, 1403, 82, 1088, 1186, 1924, 1816, 668, 1659, 1361, 36, 746, 1716, 905, 528, 1615, 156, 586, 659, 400, 977, 836, 999, 1971, 1423, 34, 1169, 1580, 392, 462, 116, 623, 1232, 394, 1731, 1245, 1962, 705, 1177, 1101, 1932, 654, 1238, 226, 250, 1037, 1435, 1276, 1310, 648, 456, 1224, 167, 1490, 919, 954, 1052, 268, 151, 1983, 1016, 1533, 1022, 1215, 833, 368, 1162, 323, 455, 493, 562, 95, 568, 486, 184, 948, 66, 29, 968, 1538, 1883, 1280, 77, 104, 572, 1942, 1758, 1644, 673, 437, 707, 271, 1779, 1573, 1506, 1997, 494, 1211, 68, 844, 366, 1094, 1984, 972, 515, 1199, 1554, 1020, 915, 1316, 443, 913, 192, 1797, 1834, 664, 334, 1121, 1693, 257, 1930, 295, 1081, 823, 1294, 1439, 1963, 1042, 1769, 1690, 1819, 846, 496, 914, 118, 255, 1195, 232, 1392, 1558, 1723, 204, 1568, 480, 901, 425, 982, 1695, 1120, 337, 12, 386, 212, 770, 83, 239, 351, 509, 1075, 1010, 468, 1551, 950, 149, 141, 362, 277, 1083, 1920, 221, 1753, 1567, 103, 839, 1031, 482, 557, 547, 1012, 798, 1576, 343, 219, 1586, 24, 674, 761, 1912, 941, 807, 530, 152, 145, 1288, 161, 266, 579, 666, 546, 303, 1772, 2, 1417, 1502, 1272, 610, 1911, 1304, 861, 867, 1465, 313, 978, 85, 1413, 669, 817, 730, 8, 818, 1191, 7, 1867, 679, 198, 886, 433, 1429, 757, 1041, 1989, 1399, 1252, 463, 938, 1928, 174, 449, 479, 837, 1004, 1131, 656, 1532, 1296, 1275, 389, 907, 69, 604, 80, 1463, 384, 1902, 853, 1667, 245, 328, 1599, 246, 626, 293, 1746, 843, 142, 590, 1526, 1588, 584, 964, 227, 1453, 603, 1219, 1299, 288, 1836, 292, 768, 1698, 1495, 718, 1630, 1626, 1818, 229, 272, 1450, 1759, 1034, 1878, 1909, 426, 1839, 1545, 1, 974, 489, 559, 10, 979, 312, 1953, 413, 1256, 617, 987, 1806, 1702, 710, 1607, 61, 1692, 1336, 924, 616, 1335, 135, 1273, 442, 723, 725, 1401, 1281, 788, 58, 349, 1504, 1907, 466, 1003, 1722, 1170, 113, 992, 163, 1755, 404, 1937, 1608, 516, 1809, 1906, 1357, 445, 1613, 1337, 1018, 1509, 852, 186, 503, 1621, 1863, 1699, 1923, 1457, 1541, 1747, 91, 373, 1233, 1653, 126, 966, 1112, 1665, 779, 1847, 1646, 1006, 251, 214, 110, 1424, 364, 327, 1372, 702, 1426, 1198, 1595, 1596, 1550, 1519, 1534, 1251, 1241, 1287, 225, 6, 1817, 345, 1220, 1530, 1065, 1734, 1292, 1128, 76, 869, 1888, 1874, 872, 658, 1261, 1862, 789, 1560, 402, 100, 875, 1916, 236, 1157, 870, 1473, 418, 1563, 183, 538, 899, 1397, 1917, 241, 1147, 1234, 1348, 1583, 1444, 782, 734, 1805, 618, 787, 1647, 417, 1598, 248, 134, 1212, 1380, 1986, 101, 1870, 353, 398, 1559, 422, 1312, 578, 1673, 431, 1935, 1895, 1501, 1833, 1414, 640, 1577, 1966, 1029, 1714, 165, 1446, 1409, 929, 741, 1438, 1008, 1334, 216, 1811, 1039, 1824, 37, 269, 96, 1682, 1394, 1815, 555, 1122, 1952, 542, 1654, 435, 306, 1433, 472, 1105, 1404, 1738, 813, 1602, 1792, 1756, 724, 176, 808, 1666, 1291, 285, 310, 1757, 27, 1311, 1721, 1671, 939, 1784, 159, 1459, 432, 814, 1611, 765, 1897, 1149, 283, 1933, 1527, 1632, 1197, 877, 1328, 458, 1938, 1801, 1508, 1890, 1948, 446, 203, 162, 991, 1764, 1024, 1049, 1362, 1236, 1880, 230, 695, 1193, 920, 1891, 774, 1592, 816, 157, 778, 436, 1683, 70, 1564, 917, 1601, 748, 84, 478, 1724, 736, 1951, 1642, 743, 1111, 1915, 524, 87, 1109, 372, 485, 393, 290, 1303, 554, 647, 267, 998, 1305, 1853, 1494, 201, 1412, 1339, 561, 925, 1176, 1171, 1579, 518, 1754, 1744, 1069, 324, 507, 840, 1073, 352, 1358, 1566, 1968, 1017, 541, 123, 1064, 1732, 1470, 1216, 383, 448, 655, 653, 712, 1886, 1468, 282, 906, 73, 1969, 812, 1416, 926, 1524, 1712, 1381, 709, 1842, 706, 284, 1165, 1451, 215, 1067, 1514, 287, 1879, 1239, 487, 949, 1222, 1633, 1616, 1536, 634, 81, 434, 540, 810, 1187, 1903, 207, 408, 1796, 1571, 1242, 173, 1317, 1398, 1243, 193, 1460, 527, 322, 1497, 281, 1919, 958, 238, 355, 233, 1078, 689, 63, 1896, 1929, 369, 900, 234, 1134, 519, 1798, 223, 197, 904, 397, 1884, 777, 1430, 200, 388, 1945, 125, 1466, 53, 411, 1876, 1736, 1455, 1959, 506, 1656, 1947, 643, 607, 64, 1785, 764, 286, 1283, 129, 484, 194, 1104, 784, 367, 1958, 522, 1900, 158, 672, 1087, 1324, 1447, 30, 717, 567, 1192, 1908, 1562, 1678, 699, 1570, 1449, 177, 235, 1640, 358, 1396, 1009, 927, 512, 585, 1349, 792, 678, 820, 1761, 240, 1684, 613, 1914, 1103, 1314, 1353, 148, 1136, 361, 732, 217, 1172, 21, 1388, 1146, 898, 731, 780, 1266, 280, 639, 742, 940, 965, 1293, 1458, 1442, 1231, 98, 1483, 1152, 304, 651, 356, 320, 1561, 190, 719, 1228, 1672, 11, 769, 831, 1443, 1189, 594]\n",
      "Number of out-of-sample scenarios: 950\n"
     ]
    }
   ],
   "source": [
    "# Indices of all scenarios\n",
    "all_indices = list(range(S))\n",
    "\n",
    "# Indices of out-of-sample scenarios\n",
    "out_of_sample_indices = list(set(all_indices) - set(in_sample_scenarios))\n",
    "\n",
    "# Sample 950 out-of-sample scenarios without replacement\n",
    "out_sample_indices = random.sample(out_of_sample_indices, 950)\n",
    "print(out_sample_indices)\n",
    "\n",
    "# Extract out-of-sample scenarios from the dictionary containing all scenarios\n",
    "out_sample_scenarios = {}\n",
    "for i, idx in enumerate(out_sample_indices):\n",
    "    out_sample_scenarios[str(i)] = all_scenarios[str(idx)]\n",
    "    out_sample_scenarios[str(i)]['Original Index'] = idx\n",
    "\n",
    "# Print information\n",
    "print('Number of out-of-sample scenarios:', len(out_sample_scenarios))"
   ]
  },
  {
   "cell_type": "markdown",
   "metadata": {},
   "source": [
    "Import the optimal day-ahead dispatch values"
   ]
  },
  {
   "cell_type": "code",
   "execution_count": 6,
   "metadata": {},
   "outputs": [],
   "source": [
    "optimal_DA_bids = pd.read_csv('Data/optimal_DA_bids.csv', index_col=0)\n",
    "\n",
    "optimal_DA_oneprice = optimal_DA_bids['One-price Bids [MW]'].values\n",
    "optimal_DA_twoprice = optimal_DA_bids['Two-price Bids [MW]'].values"
   ]
  },
  {
   "cell_type": "markdown",
   "metadata": {},
   "source": [
    "Calculate out-of-sample performance **(one-price)**"
   ]
  },
  {
   "cell_type": "code",
   "execution_count": 5,
   "metadata": {},
   "outputs": [
    {
     "data": {
      "text/plain": [
       "dict_keys(['Wind Power [MW]', 'Spot Price [EUR/MWh]', 'System Balance State', 'Original Index'])"
      ]
     },
     "execution_count": 5,
     "metadata": {},
     "output_type": "execute_result"
    }
   ],
   "source": [
    "out_sample_scenarios['0'].keys()"
   ]
  },
  {
   "cell_type": "code",
   "execution_count": 11,
   "metadata": {},
   "outputs": [
    {
     "name": "stdout",
     "output_type": "stream",
     "text": [
      "181065.23900215412\n"
     ]
    }
   ],
   "source": [
    "# Calculate payments or earnings for out-of-sample scenarios\n",
    "total_payment_earnings = 0\n",
    "\n",
    "for scenario_idx in out_sample_scenarios:\n",
    "    scenario = out_sample_scenarios[scenario_idx]\n",
    "\n",
    "    x = scenario['Spot Price [EUR/MWh]'] * optimal_DA_oneprice\n",
    "\n",
    "    realized_imbalance = np.array(scenario['Wind Power [MW]']) - optimal_DA_oneprice\n",
    "\n",
    "    price_coefficient = 1.2 * np.array(scenario['System Balance State']) + 0.9 * (1 - np.array(scenario['System Balance State']))\n",
    "    y = realized_imbalance * price_coefficient * scenario['Spot Price [EUR/MWh]']\n",
    "\n",
    "    payment_earnings = x + y\n",
    "    \n",
    "    total_payment_earnings += np.sum(payment_earnings)\n",
    "\n",
    "# Calculate average payment or earnings over out-of-sample scenarios\n",
    "average_payment_earnings_one_price = total_payment_earnings / len(out_sample_scenarios)\n",
    "\n",
    "print(average_payment_earnings_one_price)"
   ]
  },
  {
   "cell_type": "markdown",
   "metadata": {},
   "source": [
    "Calculate out-of-sample performance **(two-price)**"
   ]
  },
  {
   "cell_type": "code",
   "execution_count": 15,
   "metadata": {},
   "outputs": [
    {
     "name": "stdout",
     "output_type": "stream",
     "text": [
      "164037.96700124204\n"
     ]
    }
   ],
   "source": [
    "# Calculate payments or earnings for out-of-sample scenarios\n",
    "total_payment_earnings = 0\n",
    "\n",
    "for scenario_idx in out_sample_scenarios:\n",
    "    scenario = out_sample_scenarios[scenario_idx]\n",
    "\n",
    "    x = scenario['Spot Price [EUR/MWh]'] * optimal_DA_twoprice\n",
    "\n",
    "    realized_imbalance = np.array(scenario['Wind Power [MW]']) - optimal_DA_twoprice\n",
    "\n",
    "    price_coefficients = np.zeros(T)\n",
    "\n",
    "    for t in range(T):\n",
    "        if (realized_imbalance[t] > 0) and (scenario['System Balance State'][t] == 0):\n",
    "            price_coefficients[t] = 0.9\n",
    "        elif (realized_imbalance[t] > 0) and (scenario['System Balance State'][t] == 1):\n",
    "            price_coefficients[t] = 1.0\n",
    "        elif (realized_imbalance[t] < 0) and (scenario['System Balance State'][t] == 0):\n",
    "            price_coefficients[t] = -1.0\n",
    "        elif (realized_imbalance[t] < 0) and (scenario['System Balance State'][t] == 1):\n",
    "            price_coefficients[t] = -1.2\n",
    "    \n",
    "\n",
    "    y = np.abs(realized_imbalance) * price_coefficients * scenario['Spot Price [EUR/MWh]']\n",
    "\n",
    "    payment_earnings = x + y\n",
    "    \n",
    "    total_payment_earnings += np.sum(payment_earnings)\n",
    "\n",
    "# Calculate average payment or earnings over out-of-sample scenarios\n",
    "average_payment_earnings_two_price = total_payment_earnings / len(out_sample_scenarios)\n",
    "\n",
    "print(average_payment_earnings_two_price)"
   ]
  }
 ],
 "metadata": {
  "kernelspec": {
   "display_name": "Python 3",
   "language": "python",
   "name": "python3"
  },
  "language_info": {
   "codemirror_mode": {
    "name": "ipython",
    "version": 3
   },
   "file_extension": ".py",
   "mimetype": "text/x-python",
   "name": "python",
   "nbconvert_exporter": "python",
   "pygments_lexer": "ipython3",
   "version": "3.11.7"
  }
 },
 "nbformat": 4,
 "nbformat_minor": 2
}
