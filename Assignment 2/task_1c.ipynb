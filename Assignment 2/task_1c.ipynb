{
 "cells": [
  {
   "cell_type": "code",
   "execution_count": null,
   "metadata": {},
   "outputs": [],
   "source": [
    "import gurobipy as gb\n",
    "import numpy as np\n",
    "import pandas as pd\n",
    "import matplotlib.pyplot as plt\n",
    "import json\n",
    "\n",
    "plt.rcParams['font.size']=12\n",
    "plt.rcParams['font.family']='serif'\n",
    "plt.rcParams['axes.spines.top'] = False\n",
    "plt.rcParams['axes.spines.right'] = False  \n",
    "plt.rcParams['axes.spines.bottom'] = True     \n",
    "plt.rcParams[\"axes.grid\"] = True\n",
    "plt.rcParams['grid.linestyle'] = '-.' \n",
    "plt.rcParams['grid.linewidth'] = 0.4"
   ]
  }
 ],
 "metadata": {
  "language_info": {
   "name": "python"
  }
 },
 "nbformat": 4,
 "nbformat_minor": 2
}
